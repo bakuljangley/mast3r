{
 "cells": [
  {
   "cell_type": "code",
   "execution_count": null,
   "metadata": {},
   "outputs": [],
   "source": [
    "#imports for model \n",
    "\n",
    "from mast3r.model import AsymmetricMASt3R\n",
    "\n",
    "#general imports for plotting and visualization \n",
    "import numpy as np\n",
    "import matplotlib.pyplot as plt\n",
    "import ipywidgets as widgets\n",
    "from IPython.display import display\n",
    "from PIL import Image\n",
    "\n",
    "\n",
    "#my utilities for evaluation and general dataset reading\n",
    "from utils import CameraMatrix, computePoseError\n",
    "from myDataset import ImagePairDataset, ResultsDataset, readResultsFile\n",
    "from sevenScenesDatasets import loadPose7scenes\n",
    "\n",
    "#load model\n",
    "device = 'cuda:4'\n",
    "model_name = \"naver/MASt3R_ViTLarge_BaseDecoder_512_catmlpdpt_metric\"\n",
    "model = AsymmetricMASt3R.from_pretrained(model_name).to(device)\n",
    "\n",
    "#model hyperprams\n",
    "K = CameraMatrix(585,585,320,240) #specific to dataset\n",
    "n_matches = 30\n",
    "\n",
    "\n",
    "\n"
   ]
  },
  {
   "cell_type": "code",
   "execution_count": null,
   "metadata": {},
   "outputs": [],
   "source": [
    "#reading the pairs file\n",
    "\n",
    "from sevenScenesDatasets import readMultiImageRelPoseNetPairsFile #function will change per pair file\n",
    "root_dir = \"/datasets/7scenes_org\"\n",
    "pairs_file = \"/home/bjangley/VPR/7scenes/pairs2/test_tuples_multiimagerelposenet.txt\"\n",
    "\n",
    "anchors, queries, scene_ids = readMultiImageRelPoseNetPairsFile(pairs_file, root_dir)\n",
    "dataset = ImagePairDataset(anchors, queries)\n",
    "# print(len(dataset))\n",
    "# print(dataset[0])\n",
    "\n"
   ]
  },
  {
   "cell_type": "code",
   "execution_count": null,
   "metadata": {},
   "outputs": [],
   "source": [
    "#mast3r output -- might need changes -- base case will just find query to anchor transformation \n",
    "#for 7scenes specifically, i make use of the ground truth anchor to world transformation\n",
    "\n",
    "from tqdm import tqdm\n",
    "from myMethod import processPair\n",
    "\n",
    "# output_file = 'pairResults.txt'\n",
    "\n",
    "# # Get the total number of items to process\n",
    "# total_items = len(dataset)\n",
    "\n",
    "# with open(output_file, 'w') as f:\n",
    "#     # Create a tqdm progress bar\n",
    "#     for idx in tqdm(range(total_items), desc=\"Processing pairs\", unit=\"pair\"):\n",
    "#         item = dataset[idx]\n",
    "#         anchor_path = item['anchor_path']\n",
    "#         query_path = item['query_path']\n",
    "#         anchor_pose = loadPose7scenes(anchor_path) #load pose for anchor \n",
    "\n",
    "#         ret_val, transformation, n_matches_total, n_matches_filtered = processPair(\n",
    "#             model, device, anchor_path, query_path, K, n_matches\n",
    "#         )\n",
    "#         # Write output\n",
    "#         f.write(f\"{query_path} {anchor_path} {n_matches_total} {n_matches_filtered} {ret_val}\")\n",
    "#         if ret_val:\n",
    "#             mast3r_query2world = np.dot(anchor_pose, transformation)\n",
    "#             f.write(\" \" + \" \".join(map(str, transformation.flatten())))\n",
    "#             f.write(\" \" + \" \".join(map(str, mast3r_query2world.flatten())))\n",
    "#         else:\n",
    "#             f.write(\" \" + \" \".join([\"0\"] * 32)) #return an array of zeros if fail\n",
    "#         f.write(\"\\n\")\n",
    "#         f.flush()"
   ]
  },
  {
   "cell_type": "code",
   "execution_count": null,
   "metadata": {},
   "outputs": [],
   "source": [
    "import numpy as np\n",
    "\n",
    "# Usage\n",
    "output_file = '/home/bjangley/VPR/mast3r/results_n30_withlogs.txt'\n",
    "results = readResultsFile(output_file)\n",
    "\n",
    "\n",
    "results.printSummary() # Print summary\n",
    "\n",
    "## you can access an individual element by index using item = results.getPairResults(i)\n",
    "## then access further information with item[key] with key being 'n_matches_total', 'n_matches_filtered', 'ret_val','mast3r_q2a','mast3r_q2world'\n",
    "## the results class also has additional functions that return a list of indices \n",
    "#### lists returned::\n",
    "#### getMatchesBelow(threshold)\n",
    "#### getMatchesWithin(lower,Upper)\n",
    "#### getFails() --> returns indices of all fails -- transform = 0"
   ]
  },
  {
   "cell_type": "code",
   "execution_count": null,
   "metadata": {},
   "outputs": [],
   "source": [
    "\n",
    "indices = results.getMatchesWithin(1000,2000)\n",
    "dataset.visualizePairs(indices)\n",
    "\n",
    "\n",
    "\n"
   ]
  },
  {
   "cell_type": "code",
   "execution_count": null,
   "metadata": {},
   "outputs": [],
   "source": []
  }
 ],
 "metadata": {
  "kernelspec": {
   "display_name": "mast3r",
   "language": "python",
   "name": "python3"
  },
  "language_info": {
   "codemirror_mode": {
    "name": "ipython",
    "version": 3
   },
   "file_extension": ".py",
   "mimetype": "text/x-python",
   "name": "python",
   "nbconvert_exporter": "python",
   "pygments_lexer": "ipython3",
   "version": "3.11.0"
  }
 },
 "nbformat": 4,
 "nbformat_minor": 2
}
