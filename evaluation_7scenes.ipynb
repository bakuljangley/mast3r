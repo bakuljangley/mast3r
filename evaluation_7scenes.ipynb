{
 "cells": [
  {
   "cell_type": "code",
   "execution_count": null,
   "metadata": {},
   "outputs": [],
   "source": [
    "#imports for model \n",
    "\n",
    "from mast3r.model import AsymmetricMASt3R\n",
    "\n",
    "#general imports for plotting and visualization \n",
    "import numpy as np\n",
    "import matplotlib.pyplot as plt\n",
    "import ipywidgets as widgets\n",
    "from IPython.display import display\n",
    "from PIL import Image\n",
    "\n",
    "\n",
    "#my utilities for evaluation and general dataset reading\n",
    "from utils import CameraMatrix, computePoseError\n",
    "from myDataset import ImagePairDataset, ResultsDataset, readResultsFile\n",
    "from sevenScenesDatasets import loadPose7scenes\n",
    "from sevenScenesDatasets import readMultiImageRelPoseNetPairsFile #function will change per pair file\n",
    "from sevenScenesDatasets import scenes_dict, getSceneIndices #these will change for the dataset\n",
    "\n",
    "\n",
    "#load model\n",
    "device = 'cuda:4'\n",
    "model_name = \"naver/MASt3R_ViTLarge_BaseDecoder_512_catmlpdpt_metric\"\n",
    "model = AsymmetricMASt3R.from_pretrained(model_name).to(device)\n",
    "\n",
    "#model hyperprams\n",
    "K = CameraMatrix(585,585,320,240) #specific to dataset\n",
    "n_matches = 30\n",
    "\n",
    "\n",
    "\n"
   ]
  },
  {
   "cell_type": "code",
   "execution_count": null,
   "metadata": {},
   "outputs": [],
   "source": [
    "#reading the pairs file\n",
    "\n",
    "\n",
    "\n",
    "root_dir = \"/datasets/7scenes_org\"\n",
    "pairs_file = \"/home/bjangley/VPR/7scenes/pairs2/test_tuples_multiimagerelposenet.txt\"\n",
    "\n",
    "anchors, queries, scene_ids = readMultiImageRelPoseNetPairsFile(pairs_file, root_dir)\n",
    "dataset = ImagePairDataset(anchors, queries)\n",
    "\n",
    "#can plot dataset item directly using \n",
    "dataset.plotItem(1)\n",
    "\n",
    "#can access scene_ids via the scene_id list but this is 7scenes_specific "
   ]
  },
  {
   "cell_type": "code",
   "execution_count": null,
   "metadata": {},
   "outputs": [],
   "source": [
    "\n",
    "\n",
    "# Usage\n",
    "output_file = '/home/bjangley/VPR/mast3r/results_n30_withlogs.txt'\n",
    "results = readResultsFile(output_file)\n",
    "results.printSummary() # Print summary\n",
    "\n",
    "## you can access an individual element by index using item = results.getPairResults(i)\n",
    "## then access further information with item[key] with key being 'n_matches_total', 'n_matches_filtered', 'ret_val','mast3r_q2a','mast3r_q2world'\n",
    "## the results class also has additional functions that return a list of indices \n",
    "#### lists returned::\n",
    "#### getMatchesBelow(threshold)\n",
    "#### getMatchesWithin(lower,Upper)\n",
    "#### getFails() --> returns indices of all fails -- transform = 0\n",
    "\n",
    "\"CODE TO VISUALISE IMPORTANT PAIRS\"\n",
    "# indices = results.getMatchesWithin(1000,2000)\n",
    "# dataset.visualizePairs(indices)"
   ]
  },
  {
   "cell_type": "code",
   "execution_count": null,
   "metadata": {},
   "outputs": [],
   "source": [
    "\n",
    "\n",
    "\n",
    "#the reshape operation just makes it easy for the plotting code -- used in a lot of the plotting code \n",
    "#the pairs file is query x 9 anchors -- so each of the rows would be all entries for that query\n",
    "# scene = np.array(indices_scene1).reshape(int(len(indices_scene1)/9),9)\n",
    "scene1 = getSceneIndices(0, scene_ids=scene_ids)\n",
    "\n",
    "\n"
   ]
  },
  {
   "cell_type": "code",
   "execution_count": null,
   "metadata": {},
   "outputs": [],
   "source": [
    "import numpy as np\n",
    "import matplotlib.pyplot as plt\n",
    "from scipy.spatial.transform import Rotation as R\n",
    "from plotting import plotSceneResults\n",
    "\n",
    "# # Usage\n",
    "scene_id = 4\n",
    "scene = getSceneIndices(scene_id, scene_ids=scene_ids)\n",
    "plotSceneResults(scene, dataset, results, title=scenes_dict[scene_id])\n",
    "\n",
    "# for scene_id, scene_name in scenes_dict.items():\n",
    "#     scene_indices = getSceneIndices(scene_id, scene_ids=scene_ids)\n",
    "#     plotSceneResults(scene_indices, dataset, results, title=scene_name.capitalize())"
   ]
  },
  {
   "cell_type": "code",
   "execution_count": null,
   "metadata": {},
   "outputs": [],
   "source": [
    "\n",
    "from plotting import plotLocalizationVsMatches\n",
    "\n",
    "#to plot per scene\n",
    "scene_id = 3\n",
    "scene = getSceneIndices(3, scene_ids=scene_ids)\n",
    "plotLocalizationVsMatches(scene, dataset, results, scenes_dict[scene_id])\n",
    "\n",
    "# Use the original function with all scene indices\n",
    "# plotLocalizationVsMatches(range(len(dataset)), dataset, results, title=\"All Scenes\")"
   ]
  },
  {
   "cell_type": "code",
   "execution_count": null,
   "metadata": {},
   "outputs": [],
   "source": [
    "import json\n",
    "from tabulate import tabulate\n",
    "import numpy as np\n",
    "\n",
    "from plotting import evaluateScene, pos_thresholds, rot_thresholds\n",
    "\n",
    "output = {}\n",
    "\n",
    "for scene_id, scene_name in scenes_dict.items():\n",
    "    scene = getSceneIndices(scene_id, scene_ids=scene_ids)\n",
    "    output[scene_name] = evaluateScene(scene, dataset, results, confidence_threshold=1000)\n",
    "\n",
    "# Print results in a table\n",
    "headers = ['Scene'] + [f'{p}m, {r}°' for p in pos_thresholds for r in rot_thresholds] + ['%  Fail', '% Below Threshold', '% Above Threshold', 'Total', 'Mean Pos Error (m)', 'Mean Rot Error (°)']\n",
    "table_data = []\n",
    "\n",
    "for scene_name, scene_results in output.items():\n",
    "    row = [scene_name]\n",
    "    for p in pos_thresholds:\n",
    "        for r in rot_thresholds:\n",
    "            row.append(f\"{scene_results[f'{p}m_{r}deg']:.2f}%\")\n",
    "    row.append(f\"{scene_results['percent_complete_fail']:.2f}%\")\n",
    "    row.append(f\"{scene_results['percent_below_threshold']:.2f}%\")\n",
    "    row.append(f\"{scene_results['percent_above_threshold']:.2f}%\")\n",
    "    row.append(str(scene_results['total_estimations']))\n",
    "    row.append(f\"{scene_results['mean_pos_error']:.3f}\")\n",
    "    row.append(f\"{scene_results['mean_rot_error']:.3f}\")\n",
    "    table_data.append(row)\n",
    "\n",
    "print(tabulate(table_data, headers=headers, tablefmt=\"grid\"))\n"
   ]
  },
  {
   "cell_type": "code",
   "execution_count": null,
   "metadata": {},
   "outputs": [],
   "source": [
    "from plotting import createSceneHistogram\n",
    "\n",
    "# Usage\n",
    "scene_id = 3  # For example, to plot the 'office' scene\n",
    "scene = getSceneIndices(scene_id, scene_ids=scene_ids)\n",
    "createSceneHistogram(results, dataset, range(len(dataset)), bin_width=100, title=scenes_dict[scene_id])"
   ]
  },
  {
   "cell_type": "code",
   "execution_count": null,
   "metadata": {},
   "outputs": [],
   "source": []
  }
 ],
 "metadata": {
  "kernelspec": {
   "display_name": "mast3r",
   "language": "python",
   "name": "python3"
  },
  "language_info": {
   "codemirror_mode": {
    "name": "ipython",
    "version": 3
   },
   "file_extension": ".py",
   "mimetype": "text/x-python",
   "name": "python",
   "nbconvert_exporter": "python",
   "pygments_lexer": "ipython3",
   "version": "3.11.0"
  }
 },
 "nbformat": 4,
 "nbformat_minor": 2
}
